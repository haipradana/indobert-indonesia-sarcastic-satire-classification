{
 "cells": [
  {
   "cell_type": "markdown",
   "id": "c035900b",
   "metadata": {},
   "source": [
    "## Gabung dan formatting data"
   ]
  },
  {
   "cell_type": "markdown",
   "id": "322f4a51",
   "metadata": {},
   "source": [
    "### Concat json"
   ]
  },
  {
   "cell_type": "code",
   "execution_count": 1,
   "id": "e8b5f7d5",
   "metadata": {},
   "outputs": [],
   "source": [
    "import json\n",
    "import pandas as pd"
   ]
  },
  {
   "cell_type": "code",
   "execution_count": 2,
   "id": "52712589",
   "metadata": {},
   "outputs": [],
   "source": [
    "files = ['train.json', 'test.json', 'validation.json']\n",
    "combined_data = []"
   ]
  },
  {
   "cell_type": "code",
   "execution_count": 3,
   "id": "ba111609",
   "metadata": {},
   "outputs": [
    {
     "data": {
      "text/html": [
       "<div>\n",
       "<style scoped>\n",
       "    .dataframe tbody tr th:only-of-type {\n",
       "        vertical-align: middle;\n",
       "    }\n",
       "\n",
       "    .dataframe tbody tr th {\n",
       "        vertical-align: top;\n",
       "    }\n",
       "\n",
       "    .dataframe thead th {\n",
       "        text-align: right;\n",
       "    }\n",
       "</style>\n",
       "<table border=\"1\" class=\"dataframe\">\n",
       "  <thead>\n",
       "    <tr style=\"text-align: right;\">\n",
       "      <th></th>\n",
       "      <th>author</th>\n",
       "      <th>created_utc</th>\n",
       "      <th>score</th>\n",
       "      <th>permalink</th>\n",
       "      <th>subreddit</th>\n",
       "      <th>body</th>\n",
       "      <th>lang_fastText</th>\n",
       "      <th>label</th>\n",
       "      <th>text</th>\n",
       "    </tr>\n",
       "  </thead>\n",
       "  <tbody>\n",
       "    <tr>\n",
       "      <th>0</th>\n",
       "      <td>liberal_minangnese</td>\n",
       "      <td>1.609055e+09</td>\n",
       "      <td>7</td>\n",
       "      <td>/r/indonesia/comments/kkj01g/mengapa_sentimen_...</td>\n",
       "      <td>indonesia</td>\n",
       "      <td>Lo bilang chinese playing victim tapi lo gasad...</td>\n",
       "      <td>id</td>\n",
       "      <td>0</td>\n",
       "      <td>Lo bilang chinese playing victim tapi lo gasad...</td>\n",
       "    </tr>\n",
       "    <tr>\n",
       "      <th>1</th>\n",
       "      <td>IceFl4re</td>\n",
       "      <td>1.592827e+09</td>\n",
       "      <td>140</td>\n",
       "      <td>/r/indonesia/comments/hdq6gx/terjemahannya_nge...</td>\n",
       "      <td>indonesia</td>\n",
       "      <td>Kadang-kadang sampe aku mikir \"kayaknya buku g...</td>\n",
       "      <td>id</td>\n",
       "      <td>0</td>\n",
       "      <td>Kadang-kadang sampe aku mikir \"kayaknya buku g...</td>\n",
       "    </tr>\n",
       "    <tr>\n",
       "      <th>2</th>\n",
       "      <td>Winter_Anxiety</td>\n",
       "      <td>1.669217e+09</td>\n",
       "      <td>1</td>\n",
       "      <td>/r/indonesia/comments/z2mmfu/this_fucking_guy_...</td>\n",
       "      <td>indonesia</td>\n",
       "      <td>Bukanya berduka mlh buat konspirasi sendiri</td>\n",
       "      <td>id</td>\n",
       "      <td>0</td>\n",
       "      <td>Bukanya berduka mlh buat konspirasi sendiri</td>\n",
       "    </tr>\n",
       "    <tr>\n",
       "      <th>3</th>\n",
       "      <td>spicyrendang</td>\n",
       "      <td>1.617185e+09</td>\n",
       "      <td>6</td>\n",
       "      <td>/r/indonesia/comments/mgkqyi/31_march_2021_dai...</td>\n",
       "      <td>indonesia</td>\n",
       "      <td>Atta Halilintar pamer di youtube: \"Dasar pamer...</td>\n",
       "      <td>id</td>\n",
       "      <td>0</td>\n",
       "      <td>Atta Halilintar pamer di youtube: \"Dasar pamer...</td>\n",
       "    </tr>\n",
       "    <tr>\n",
       "      <th>4</th>\n",
       "      <td>Qolapse</td>\n",
       "      <td>1.660572e+09</td>\n",
       "      <td>2</td>\n",
       "      <td>/r/indonesia/comments/woxxfv/bersama_kita_bisa...</td>\n",
       "      <td>indonesia</td>\n",
       "      <td>Pasti lokasinya di kalimantan</td>\n",
       "      <td>id</td>\n",
       "      <td>0</td>\n",
       "      <td>Pasti lokasinya di kalimantan</td>\n",
       "    </tr>\n",
       "  </tbody>\n",
       "</table>\n",
       "</div>"
      ],
      "text/plain": [
       "               author   created_utc  score  \\\n",
       "0  liberal_minangnese  1.609055e+09      7   \n",
       "1            IceFl4re  1.592827e+09    140   \n",
       "2      Winter_Anxiety  1.669217e+09      1   \n",
       "3        spicyrendang  1.617185e+09      6   \n",
       "4             Qolapse  1.660572e+09      2   \n",
       "\n",
       "                                           permalink  subreddit  \\\n",
       "0  /r/indonesia/comments/kkj01g/mengapa_sentimen_...  indonesia   \n",
       "1  /r/indonesia/comments/hdq6gx/terjemahannya_nge...  indonesia   \n",
       "2  /r/indonesia/comments/z2mmfu/this_fucking_guy_...  indonesia   \n",
       "3  /r/indonesia/comments/mgkqyi/31_march_2021_dai...  indonesia   \n",
       "4  /r/indonesia/comments/woxxfv/bersama_kita_bisa...  indonesia   \n",
       "\n",
       "                                                body lang_fastText  label  \\\n",
       "0  Lo bilang chinese playing victim tapi lo gasad...            id      0   \n",
       "1  Kadang-kadang sampe aku mikir \"kayaknya buku g...            id      0   \n",
       "2        Bukanya berduka mlh buat konspirasi sendiri            id      0   \n",
       "3  Atta Halilintar pamer di youtube: \"Dasar pamer...            id      0   \n",
       "4                      Pasti lokasinya di kalimantan            id      0   \n",
       "\n",
       "                                                text  \n",
       "0  Lo bilang chinese playing victim tapi lo gasad...  \n",
       "1  Kadang-kadang sampe aku mikir \"kayaknya buku g...  \n",
       "2        Bukanya berduka mlh buat konspirasi sendiri  \n",
       "3  Atta Halilintar pamer di youtube: \"Dasar pamer...  \n",
       "4                      Pasti lokasinya di kalimantan  "
      ]
     },
     "execution_count": 3,
     "metadata": {},
     "output_type": "execute_result"
    }
   ],
   "source": [
    "for file in files:\n",
    "    with open(file, 'r') as f:\n",
    "        data = json.load(f)\n",
    "        if isinstance(data, list):\n",
    "            combined_data.extend(data) # extend jika list\n",
    "        else:\n",
    "            combined_data.append(data) # data adalah dict\n",
    "            \n",
    "df = pd.DataFrame(combined_data)\n",
    "df.head()"
   ]
  },
  {
   "cell_type": "code",
   "execution_count": 4,
   "id": "afd381ca",
   "metadata": {},
   "outputs": [
    {
     "data": {
      "text/html": [
       "<div>\n",
       "<style scoped>\n",
       "    .dataframe tbody tr th:only-of-type {\n",
       "        vertical-align: middle;\n",
       "    }\n",
       "\n",
       "    .dataframe tbody tr th {\n",
       "        vertical-align: top;\n",
       "    }\n",
       "\n",
       "    .dataframe thead th {\n",
       "        text-align: right;\n",
       "    }\n",
       "</style>\n",
       "<table border=\"1\" class=\"dataframe\">\n",
       "  <thead>\n",
       "    <tr style=\"text-align: right;\">\n",
       "      <th></th>\n",
       "      <th>text</th>\n",
       "      <th>label</th>\n",
       "    </tr>\n",
       "  </thead>\n",
       "  <tbody>\n",
       "    <tr>\n",
       "      <th>0</th>\n",
       "      <td>Lo bilang chinese playing victim tapi lo gasad...</td>\n",
       "      <td>0</td>\n",
       "    </tr>\n",
       "    <tr>\n",
       "      <th>1</th>\n",
       "      <td>Kadang-kadang sampe aku mikir \"kayaknya buku g...</td>\n",
       "      <td>0</td>\n",
       "    </tr>\n",
       "    <tr>\n",
       "      <th>2</th>\n",
       "      <td>Bukanya berduka mlh buat konspirasi sendiri</td>\n",
       "      <td>0</td>\n",
       "    </tr>\n",
       "    <tr>\n",
       "      <th>3</th>\n",
       "      <td>Atta Halilintar pamer di youtube: \"Dasar pamer...</td>\n",
       "      <td>0</td>\n",
       "    </tr>\n",
       "    <tr>\n",
       "      <th>4</th>\n",
       "      <td>Pasti lokasinya di kalimantan</td>\n",
       "      <td>0</td>\n",
       "    </tr>\n",
       "  </tbody>\n",
       "</table>\n",
       "</div>"
      ],
      "text/plain": [
       "                                                text  label\n",
       "0  Lo bilang chinese playing victim tapi lo gasad...      0\n",
       "1  Kadang-kadang sampe aku mikir \"kayaknya buku g...      0\n",
       "2        Bukanya berduka mlh buat konspirasi sendiri      0\n",
       "3  Atta Halilintar pamer di youtube: \"Dasar pamer...      0\n",
       "4                      Pasti lokasinya di kalimantan      0"
      ]
     },
     "execution_count": 4,
     "metadata": {},
     "output_type": "execute_result"
    }
   ],
   "source": [
    "df1 = df[['text', 'label']]\n",
    "df1.head()"
   ]
  },
  {
   "cell_type": "code",
   "execution_count": 5,
   "id": "7f3210f7",
   "metadata": {},
   "outputs": [
    {
     "data": {
      "text/html": [
       "<div>\n",
       "<style scoped>\n",
       "    .dataframe tbody tr th:only-of-type {\n",
       "        vertical-align: middle;\n",
       "    }\n",
       "\n",
       "    .dataframe tbody tr th {\n",
       "        vertical-align: top;\n",
       "    }\n",
       "\n",
       "    .dataframe thead th {\n",
       "        text-align: right;\n",
       "    }\n",
       "</style>\n",
       "<table border=\"1\" class=\"dataframe\">\n",
       "  <thead>\n",
       "    <tr style=\"text-align: right;\">\n",
       "      <th></th>\n",
       "      <th>text</th>\n",
       "      <th>label</th>\n",
       "    </tr>\n",
       "  </thead>\n",
       "  <tbody>\n",
       "    <tr>\n",
       "      <th>0</th>\n",
       "      <td>#bisnis  #pintar #goblog #BobSadino ! mudah ga...</td>\n",
       "      <td>0</td>\n",
       "    </tr>\n",
       "    <tr>\n",
       "      <th>1</th>\n",
       "      <td>#PELAJAR  . tinggal di semenjak oke makin mant...</td>\n",
       "      <td>0</td>\n",
       "    </tr>\n",
       "    <tr>\n",
       "      <th>2</th>\n",
       "      <td>#80juta  :D :D .. mulu cepekan masa juta 80 st...</td>\n",
       "      <td>0</td>\n",
       "    </tr>\n",
       "    <tr>\n",
       "      <th>3</th>\n",
       "      <td>!  Indonesia demokrasi dg apa  Ada</td>\n",
       "      <td>0</td>\n",
       "    </tr>\n",
       "    <tr>\n",
       "      <th>4</th>\n",
       "      <td>#debatpilpres  :) .. Santai . Jokowi ibu Prabo...</td>\n",
       "      <td>0</td>\n",
       "    </tr>\n",
       "  </tbody>\n",
       "</table>\n",
       "</div>"
      ],
      "text/plain": [
       "                                                text  label\n",
       "0  #bisnis  #pintar #goblog #BobSadino ! mudah ga...      0\n",
       "1  #PELAJAR  . tinggal di semenjak oke makin mant...      0\n",
       "2  #80juta  :D :D .. mulu cepekan masa juta 80 st...      0\n",
       "3                 !  Indonesia demokrasi dg apa  Ada      0\n",
       "4  #debatpilpres  :) .. Santai . Jokowi ibu Prabo...      0"
      ]
     },
     "execution_count": 5,
     "metadata": {},
     "output_type": "execute_result"
    }
   ],
   "source": [
    "df2 = pd.read_csv('balanced.csv')\n",
    "df2.rename(columns={'Tweet': 'text', 'Kelas': 'label'}, inplace=True)\n",
    "df2.head()"
   ]
  },
  {
   "cell_type": "code",
   "execution_count": 6,
   "id": "25789659",
   "metadata": {},
   "outputs": [
    {
     "data": {
      "text/plain": [
       "(14116, 8700)"
      ]
     },
     "execution_count": 6,
     "metadata": {},
     "output_type": "execute_result"
    }
   ],
   "source": [
    "len(df1), len(df2)"
   ]
  },
  {
   "cell_type": "code",
   "execution_count": 7,
   "id": "d1624a26",
   "metadata": {},
   "outputs": [
    {
     "data": {
      "text/plain": [
       "(10587, 4350, 3529, 4350)"
      ]
     },
     "execution_count": 7,
     "metadata": {},
     "output_type": "execute_result"
    }
   ],
   "source": [
    "len(df1[df1['label'] == 0]), len(df2[df2['label'] == 0]), len(df1[df1['label'] == 1]), len(df2[df2['label'] == 1])"
   ]
  },
  {
   "cell_type": "code",
   "execution_count": 8,
   "id": "7fd1948e",
   "metadata": {},
   "outputs": [
    {
     "name": "stdout",
     "output_type": "stream",
     "text": [
      "Dataset 1 - No: 10587, Yes: 3529\n",
      "Dataset 2 - No: 4350, Yes: 4350\n"
     ]
    }
   ],
   "source": [
    "no_df1 = len(df1[df1['label'] == 0])\n",
    "no_df2 = len(df2[df2['label'] == 0])\n",
    "yes_df1 = len(df1[df1['label'] == 1])\n",
    "yes_df2 = len(df2[df2['label'] == 1])\n",
    "print(f\"Dataset 1 - No: {no_df1}, Yes: {yes_df1}\")\n",
    "print(f\"Dataset 2 - No: {no_df2}, Yes: {yes_df2}\")"
   ]
  },
  {
   "cell_type": "code",
   "execution_count": 9,
   "id": "d3613bda",
   "metadata": {},
   "outputs": [],
   "source": [
    "# ambil 3529 data dari df1 label 0, dan semua label l\n",
    "df1_no = df1[df1['label'] == 0].sample(n=3529, random_state=42)\n",
    "df1_yes = df1[df1['label'] == 1]\n",
    "new_df1 = pd.concat([df1_no, df1_yes], ignore_index=True)"
   ]
  },
  {
   "cell_type": "code",
   "execution_count": 10,
   "id": "533021b5",
   "metadata": {},
   "outputs": [
    {
     "name": "stdout",
     "output_type": "stream",
     "text": [
      "Dataset 1 - No: 3529, Yes: 3529\n",
      "Dataset 2 - No: 4350, Yes: 4350\n"
     ]
    }
   ],
   "source": [
    "no_df1_new = len(new_df1[new_df1['label'] == 0])\n",
    "yes_df1_new = len(new_df1[new_df1['label'] == 1])\n",
    "print(f\"Dataset 1 - No: {no_df1_new}, Yes: {yes_df1_new}\")\n",
    "print(f\"Dataset 2 - No: {no_df2}, Yes: {yes_df2}\")"
   ]
  },
  {
   "cell_type": "code",
   "execution_count": 11,
   "id": "ad620487",
   "metadata": {},
   "outputs": [],
   "source": [
    "# gabungkan df1 dan df2\n",
    "df_combined = pd.concat([new_df1, df2], ignore_index=True)\n",
    "df_combined.to_csv('balanced_dataset.csv', index=False)"
   ]
  },
  {
   "cell_type": "code",
   "execution_count": 13,
   "id": "13a8c081",
   "metadata": {},
   "outputs": [
    {
     "data": {
      "text/html": [
       "<div>\n",
       "<style scoped>\n",
       "    .dataframe tbody tr th:only-of-type {\n",
       "        vertical-align: middle;\n",
       "    }\n",
       "\n",
       "    .dataframe tbody tr th {\n",
       "        vertical-align: top;\n",
       "    }\n",
       "\n",
       "    .dataframe thead th {\n",
       "        text-align: right;\n",
       "    }\n",
       "</style>\n",
       "<table border=\"1\" class=\"dataframe\">\n",
       "  <thead>\n",
       "    <tr style=\"text-align: right;\">\n",
       "      <th></th>\n",
       "      <th>tweet</th>\n",
       "      <th>label</th>\n",
       "    </tr>\n",
       "  </thead>\n",
       "  <tbody>\n",
       "    <tr>\n",
       "      <th>0</th>\n",
       "      <td>&lt;username&gt; &lt;username&gt; &lt;username&gt; &lt;username&gt; &lt;u...</td>\n",
       "      <td>0</td>\n",
       "    </tr>\n",
       "    <tr>\n",
       "      <th>1</th>\n",
       "      <td>Beneran pengen tau tanggapan mereka . &lt;usernam...</td>\n",
       "      <td>0</td>\n",
       "    </tr>\n",
       "    <tr>\n",
       "      <th>2</th>\n",
       "      <td>Anda anggota DPRD lama &lt;username&gt; tapi mungkin...</td>\n",
       "      <td>0</td>\n",
       "    </tr>\n",
       "    <tr>\n",
       "      <th>3</th>\n",
       "      <td>&lt;username&gt; &lt;username&gt; Sekali sekali dea pengen...</td>\n",
       "      <td>0</td>\n",
       "    </tr>\n",
       "    <tr>\n",
       "      <th>4</th>\n",
       "      <td>Kamu tau tidak..? Pasti tidak .. Goblok kamu m...</td>\n",
       "      <td>0</td>\n",
       "    </tr>\n",
       "  </tbody>\n",
       "</table>\n",
       "</div>"
      ],
      "text/plain": [
       "                                               tweet  label\n",
       "0  <username> <username> <username> <username> <u...      0\n",
       "1  Beneran pengen tau tanggapan mereka . <usernam...      0\n",
       "2  Anda anggota DPRD lama <username> tapi mungkin...      0\n",
       "3  <username> <username> Sekali sekali dea pengen...      0\n",
       "4  Kamu tau tidak..? Pasti tidak .. Goblok kamu m...      0"
      ]
     },
     "execution_count": 13,
     "metadata": {},
     "output_type": "execute_result"
    }
   ],
   "source": [
    "#data terakir, gabung 3 file csv\n",
    "df3_1 = pd.read_csv('train.csv')\n",
    "df3_2 = pd.read_csv('test.csv')\n",
    "df3_3 = pd.read_csv('validation.csv')\n",
    "df3 = pd.concat([df3_1, df3_2, df3_3], ignore_index=True)\n",
    "df3.head()"
   ]
  },
  {
   "cell_type": "code",
   "execution_count": 14,
   "id": "0587e9e4",
   "metadata": {},
   "outputs": [
    {
     "name": "stdout",
     "output_type": "stream",
     "text": [
      "Dataset 3 - No: 2013, Yes: 671\n"
     ]
    }
   ],
   "source": [
    "no_df3 = len(df3[df3['label'] == 0])\n",
    "yes_df3 = len(df3[df3['label'] == 1])\n",
    "print(f\"Dataset 3 - No: {no_df3}, Yes: {yes_df3}\")"
   ]
  },
  {
   "cell_type": "code",
   "execution_count": 19,
   "id": "08159197",
   "metadata": {},
   "outputs": [
    {
     "data": {
      "text/html": [
       "<div>\n",
       "<style scoped>\n",
       "    .dataframe tbody tr th:only-of-type {\n",
       "        vertical-align: middle;\n",
       "    }\n",
       "\n",
       "    .dataframe tbody tr th {\n",
       "        vertical-align: top;\n",
       "    }\n",
       "\n",
       "    .dataframe thead th {\n",
       "        text-align: right;\n",
       "    }\n",
       "</style>\n",
       "<table border=\"1\" class=\"dataframe\">\n",
       "  <thead>\n",
       "    <tr style=\"text-align: right;\">\n",
       "      <th></th>\n",
       "      <th>text</th>\n",
       "      <th>label</th>\n",
       "    </tr>\n",
       "  </thead>\n",
       "  <tbody>\n",
       "    <tr>\n",
       "      <th>0</th>\n",
       "      <td>Beasiswa untuk Indonesia Maju . &lt;hashtag&gt; &lt;has...</td>\n",
       "      <td>0</td>\n",
       "    </tr>\n",
       "    <tr>\n",
       "      <th>1</th>\n",
       "      <td>Indonesia penuh keberagaman &lt;hashtag&gt;</td>\n",
       "      <td>0</td>\n",
       "    </tr>\n",
       "    <tr>\n",
       "      <th>2</th>\n",
       "      <td>Saya bukan siapa2 Saya kuliah di Muhammadiyah ...</td>\n",
       "      <td>0</td>\n",
       "    </tr>\n",
       "    <tr>\n",
       "      <th>3</th>\n",
       "      <td>&lt;username&gt; Soalnya mo dpt g jd mas bro ... ðŸ¤...</td>\n",
       "      <td>0</td>\n",
       "    </tr>\n",
       "    <tr>\n",
       "      <th>4</th>\n",
       "      <td>ada yang lebih seram di malam jumat dari chat ...</td>\n",
       "      <td>0</td>\n",
       "    </tr>\n",
       "  </tbody>\n",
       "</table>\n",
       "</div>"
      ],
      "text/plain": [
       "                                                text  label\n",
       "0  Beasiswa untuk Indonesia Maju . <hashtag> <has...      0\n",
       "1              Indonesia penuh keberagaman <hashtag>      0\n",
       "2  Saya bukan siapa2 Saya kuliah di Muhammadiyah ...      0\n",
       "3  <username> Soalnya mo dpt g jd mas bro ... ðŸ¤...      0\n",
       "4  ada yang lebih seram di malam jumat dari chat ...      0"
      ]
     },
     "execution_count": 19,
     "metadata": {},
     "output_type": "execute_result"
    }
   ],
   "source": [
    "df3_no = df3[df3['label'] == 0].sample(n=671, random_state=42)\n",
    "df3_yes = df3[df3['label'] == 1]\n",
    "new_df3 = pd.concat([df3_no, df3_yes], ignore_index=True)\n",
    "new_df3.rename(columns={'tweet': 'text'}, inplace=True)\n",
    "new_df3.head()"
   ]
  },
  {
   "cell_type": "code",
   "execution_count": 20,
   "id": "950ca63c",
   "metadata": {},
   "outputs": [],
   "source": [
    "new_df3.to_csv('balanced_dataset_3.csv', index=False)\n",
    "pd.concat([df_combined, new_df3], ignore_index=True).to_csv('final_balanced_dataset.csv', index=False)"
   ]
  }
 ],
 "metadata": {
  "kernelspec": {
   "display_name": "base",
   "language": "python",
   "name": "python3"
  },
  "language_info": {
   "codemirror_mode": {
    "name": "ipython",
    "version": 3
   },
   "file_extension": ".py",
   "mimetype": "text/x-python",
   "name": "python",
   "nbconvert_exporter": "python",
   "pygments_lexer": "ipython3",
   "version": "3.12.3"
  }
 },
 "nbformat": 4,
 "nbformat_minor": 5
}
