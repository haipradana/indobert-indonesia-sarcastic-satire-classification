{
 "cells": [
  {
   "cell_type": "code",
   "execution_count": 14,
   "id": "538e05a5",
   "metadata": {},
   "outputs": [],
   "source": [
    "import pandas as pd"
   ]
  },
  {
   "cell_type": "code",
   "execution_count": 15,
   "id": "45f61aea",
   "metadata": {},
   "outputs": [
    {
     "name": "stdout",
     "output_type": "stream",
     "text": [
      "                                                text  label\n",
      "0  Ini nyeritain karakter utama kita cewe, yang p...      0\n",
      "1  gue kemarin liat belalang sembah di rumah, ham...      0\n",
      "2  gw bukan muslim tapi setau gw yg batal itu klo...      0\n",
      "3                      apa karena apa-apa wani piro?      0\n",
      "4  Ga ada spider-man ps4, ngarep banget ini game ...      0\n",
      "5       Tidak, Patrick, manusia itu bukan instrumen.      0\n",
      "6  karena kita butuh pelampiasan a.k.a. venting h...      0\n",
      "7  yg terakhir kocheng nyebrang dibantu polisi, k...      0\n",
      "8             Lain kali coba pakai sambel petis dong      0\n",
      "9  Buat kalian yg bulu hidungya sampe keluar2 car...      0\n",
      "                                                    text  label\n",
      "17090  ayo warga Jkt saatnya anda berterimakasih pd g...      1\n",
      "17091  Mau lebih dekat bersama capres 02? tidak usahl...      1\n",
      "17092  <username> <username> Kita harus ikut program ...      1\n",
      "17093  AYO BUDAL NE JAKARTA MUMPUNG ENEK DISKOTIK BER...      1\n",
      "17094  Brsumpah pd Alquran percaya Allah maha melihat...      1\n",
      "17095  Knp jaman Ahok, KPK rajin nyadap? ðŸ™„ Mungkin...      1\n",
      "17096  Sebelumnya saya hanya pakai 2 produk lokal .. ...      1\n",
      "17097  <username> <username> <username> <username> <u...      1\n",
      "17098               Manies banget bercakap nya <hashtag>      1\n",
      "17099  Welcome to Indonesia dimana netizen lebih suka...      1\n"
     ]
    }
   ],
   "source": [
    "df = pd.read_csv('../dataset/preparation/final_balanced_dataset.csv')\n",
    "print(df.head(10))\n",
    "print(df.tail(10))"
   ]
  },
  {
   "cell_type": "markdown",
   "id": "3a55954a",
   "metadata": {},
   "source": [
    "### Cleaning with regex"
   ]
  },
  {
   "cell_type": "code",
   "execution_count": 16,
   "id": "70ca4cd8",
   "metadata": {},
   "outputs": [],
   "source": [
    "\n",
    "import re\n",
    "\n",
    "def clean_text(text):\n",
    "    text = re.sub(r'http\\S+|www\\S+|https\\S+', '', text, flags=re.MULTILINE) \n",
    "    \n",
    "    # Non ascii characters\n",
    "    # text = re.sub(r'[\\x80-\\xFF]+', '', text)\n",
    "    text = re.sub(r'[^\\x00-\\x7F]+', '', text) \n",
    "    \n",
    "    #non alphabetic berulang (punctuation, symbols, etc.)\n",
    "    text = re.sub(r'([^\\w\\s])\\1+', r'\\1', text)\n",
    "    \n",
    "    # Limit alphabetic character repetition to max 3\n",
    "    text = re.sub(r'([a-zA-Z])\\1{3,}', r'\\1\\1\\1', text)\n",
    "    \n",
    "    # Remove extra spaces\n",
    "    text = re.sub(r'\\s+', ' ', text)\n",
    "    \n",
    "    # ubah @someone menjadi \"@username\"\n",
    "    text = re.sub(r'@\\w+', r'@username', text)    \n",
    "    \n",
    "    #ubah <username> menjadi \"@username\"\n",
    "    text = re.sub(r'<username>', '@username', text)\n",
    "    \n",
    "    #hapus <link>\n",
    "    text = re.sub(r'<link>', '', text)\n",
    "    \n",
    "    #hapus <hashtag>\n",
    "    text = re.sub(r'<hashtag>', '', text)\n",
    "    \n",
    "    # hapus #\n",
    "    text = re.sub(r'#sarcasm', '', text)\n",
    "    \n",
    "    # hapus simbol # tetapi pertahankan kata setelahnya\n",
    "    text = re.sub(r'#(\\w+)', r'\\1', text)\n",
    "    \n",
    "    return text.strip()\n",
    "\n",
    "df['text'] = df['text'].apply(clean_text)\n",
    "df['text'] = df['text'].str.lower()"
   ]
  },
  {
   "cell_type": "code",
   "execution_count": 17,
   "id": "c022768c",
   "metadata": {},
   "outputs": [
    {
     "data": {
      "text/html": [
       "<div>\n",
       "<style scoped>\n",
       "    .dataframe tbody tr th:only-of-type {\n",
       "        vertical-align: middle;\n",
       "    }\n",
       "\n",
       "    .dataframe tbody tr th {\n",
       "        vertical-align: top;\n",
       "    }\n",
       "\n",
       "    .dataframe thead th {\n",
       "        text-align: right;\n",
       "    }\n",
       "</style>\n",
       "<table border=\"1\" class=\"dataframe\">\n",
       "  <thead>\n",
       "    <tr style=\"text-align: right;\">\n",
       "      <th></th>\n",
       "      <th>text</th>\n",
       "      <th>label</th>\n",
       "    </tr>\n",
       "  </thead>\n",
       "  <tbody>\n",
       "    <tr>\n",
       "      <th>0</th>\n",
       "      <td>ini nyeritain karakter utama kita cewe, yang p...</td>\n",
       "      <td>0</td>\n",
       "    </tr>\n",
       "    <tr>\n",
       "      <th>1</th>\n",
       "      <td>gue kemarin liat belalang sembah di rumah, ham...</td>\n",
       "      <td>0</td>\n",
       "    </tr>\n",
       "    <tr>\n",
       "      <th>2</th>\n",
       "      <td>gw bukan muslim tapi setau gw yg batal itu klo...</td>\n",
       "      <td>0</td>\n",
       "    </tr>\n",
       "    <tr>\n",
       "      <th>3</th>\n",
       "      <td>apa karena apa-apa wani piro?</td>\n",
       "      <td>0</td>\n",
       "    </tr>\n",
       "    <tr>\n",
       "      <th>4</th>\n",
       "      <td>ga ada spider-man ps4, ngarep banget ini game ...</td>\n",
       "      <td>0</td>\n",
       "    </tr>\n",
       "    <tr>\n",
       "      <th>5</th>\n",
       "      <td>tidak, patrick, manusia itu bukan instrumen.</td>\n",
       "      <td>0</td>\n",
       "    </tr>\n",
       "    <tr>\n",
       "      <th>6</th>\n",
       "      <td>karena kita butuh pelampiasan a.k.a. venting h...</td>\n",
       "      <td>0</td>\n",
       "    </tr>\n",
       "    <tr>\n",
       "      <th>7</th>\n",
       "      <td>yg terakhir kocheng nyebrang dibantu polisi, k...</td>\n",
       "      <td>0</td>\n",
       "    </tr>\n",
       "    <tr>\n",
       "      <th>8</th>\n",
       "      <td>lain kali coba pakai sambel petis dong</td>\n",
       "      <td>0</td>\n",
       "    </tr>\n",
       "    <tr>\n",
       "      <th>9</th>\n",
       "      <td>buat kalian yg bulu hidungya sampe keluar2 car...</td>\n",
       "      <td>0</td>\n",
       "    </tr>\n",
       "  </tbody>\n",
       "</table>\n",
       "</div>"
      ],
      "text/plain": [
       "                                                text  label\n",
       "0  ini nyeritain karakter utama kita cewe, yang p...      0\n",
       "1  gue kemarin liat belalang sembah di rumah, ham...      0\n",
       "2  gw bukan muslim tapi setau gw yg batal itu klo...      0\n",
       "3                      apa karena apa-apa wani piro?      0\n",
       "4  ga ada spider-man ps4, ngarep banget ini game ...      0\n",
       "5       tidak, patrick, manusia itu bukan instrumen.      0\n",
       "6  karena kita butuh pelampiasan a.k.a. venting h...      0\n",
       "7  yg terakhir kocheng nyebrang dibantu polisi, k...      0\n",
       "8             lain kali coba pakai sambel petis dong      0\n",
       "9  buat kalian yg bulu hidungya sampe keluar2 car...      0"
      ]
     },
     "execution_count": 17,
     "metadata": {},
     "output_type": "execute_result"
    }
   ],
   "source": [
    "df.head(10)"
   ]
  },
  {
   "cell_type": "code",
   "execution_count": 18,
   "id": "de0df38a",
   "metadata": {},
   "outputs": [],
   "source": [
    "df.to_csv('../dataset/final_dataset.csv', index=False)"
   ]
  }
 ],
 "metadata": {
  "kernelspec": {
   "display_name": "base",
   "language": "python",
   "name": "python3"
  },
  "language_info": {
   "codemirror_mode": {
    "name": "ipython",
    "version": 3
   },
   "file_extension": ".py",
   "mimetype": "text/x-python",
   "name": "python",
   "nbconvert_exporter": "python",
   "pygments_lexer": "ipython3",
   "version": "3.12.3"
  }
 },
 "nbformat": 4,
 "nbformat_minor": 5
}
